{
  "nbformat": 4,
  "nbformat_minor": 0,
  "metadata": {
    "colab": {
      "name": "ch3.ipynb",
      "provenance": [],
      "collapsed_sections": [],
      "authorship_tag": "ABX9TyMh/tj02ocp+ugnKIA17X0Q",
      "include_colab_link": true
    },
    "kernelspec": {
      "name": "python3",
      "display_name": "Python 3"
    }
  },
  "cells": [
    {
      "cell_type": "markdown",
      "metadata": {
        "id": "view-in-github",
        "colab_type": "text"
      },
      "source": [
        "<a href=\"https://colab.research.google.com/github/adin786/hands-on-ml-book/blob/main/ch3.ipynb\" target=\"_parent\"><img src=\"https://colab.research.google.com/assets/colab-badge.svg\" alt=\"Open In Colab\"/></a>"
      ]
    },
    {
      "cell_type": "code",
      "metadata": {
        "id": "3HQVNUNlcgZ7"
      },
      "source": [
        "from sklearn.datasets import fetch_openml\r\n",
        "mnist = fetch_openml('mnist_784', version=1)\r\n",
        "mnist.keys()"
      ],
      "execution_count": null,
      "outputs": []
    },
    {
      "cell_type": "code",
      "metadata": {
        "colab": {
          "base_uri": "https://localhost:8080/"
        },
        "id": "I_K6vDwYdC9Y",
        "outputId": "902daa5b-ef9d-4106-a2d4-aaacf8175e17"
      },
      "source": [
        "mnist.keys()"
      ],
      "execution_count": 3,
      "outputs": [
        {
          "output_type": "execute_result",
          "data": {
            "text/plain": [
              "dict_keys(['data', 'target', 'frame', 'feature_names', 'target_names', 'DESCR', 'details', 'categories', 'url'])"
            ]
          },
          "metadata": {
            "tags": []
          },
          "execution_count": 3
        }
      ]
    },
    {
      "cell_type": "code",
      "metadata": {
        "colab": {
          "base_uri": "https://localhost:8080/"
        },
        "id": "q9kTOhLfd77H",
        "outputId": "8390918c-61cf-40da-f163-f2b0b5704d84"
      },
      "source": [
        "X, y = mnist['data'], mnist['target'] \r\n",
        "print(X.shape,y.shape)"
      ],
      "execution_count": 6,
      "outputs": [
        {
          "output_type": "stream",
          "text": [
            "(70000, 784) (70000,)\n"
          ],
          "name": "stdout"
        }
      ]
    },
    {
      "cell_type": "code",
      "metadata": {
        "colab": {
          "base_uri": "https://localhost:8080/",
          "height": 248
        },
        "id": "fvg6fT3oeHuX",
        "outputId": "f4964bcc-f769-40f3-9acf-6c1f38ace0c6"
      },
      "source": [
        "import matplotlib as mpl\r\n",
        "import matplotlib.pyplot as plt\r\n",
        "\r\n",
        "some_digit = X[0]\r\n",
        "some_digit_image = some_digit.reshape(28,28)\r\n",
        "plt.imshow(some_digit_image, cmap=\"binary\")\r\n",
        "plt.axis('off')\r\n",
        "plt.show()"
      ],
      "execution_count": 8,
      "outputs": [
        {
          "output_type": "display_data",
          "data": {
            "image/png": "[encoded data removed]",
            "text/plain": [
              "<Figure size 432x288 with 1 Axes>"
            ]
          },
          "metadata": {
            "tags": [],
            "needs_background": "light"
          }
        }
      ]
    },
    {
      "cell_type": "code",
      "metadata": {
        "colab": {
          "base_uri": "https://localhost:8080/",
          "height": 35
        },
        "id": "RCCNP2glekhu",
        "outputId": "6a9afe1b-4a70-4400-db01-e3312385fd2a"
      },
      "source": [
        "y[0]"
      ],
      "execution_count": 9,
      "outputs": [
        {
          "output_type": "execute_result",
          "data": {
            "application/vnd.google.colaboratory.intrinsic+json": {
              "type": "string"
            },
            "text/plain": [
              "'5'"
            ]
          },
          "metadata": {
            "tags": []
          },
          "execution_count": 9
        }
      ]
    },
    {
      "cell_type": "code",
      "metadata": {
        "id": "77X0rYEDesR-"
      },
      "source": [
        "import numpy as np\r\n",
        "y = y.astype(np.uint8)"
      ],
      "execution_count": 11,
      "outputs": []
    },
    {
      "cell_type": "markdown",
      "metadata": {
        "id": "wHm6QbYmfBm9"
      },
      "source": [
        "# Splitting the training set out"
      ]
    },
    {
      "cell_type": "code",
      "metadata": {
        "id": "fdMNHtKDewkG"
      },
      "source": [
        "# Training set and test set already shuffled apparently\r\n",
        "X_train, X_test, y_train, y_test = X[:60000], X[60000:], y[:60000], y[60000:]"
      ],
      "execution_count": 12,
      "outputs": []
    },
    {
      "cell_type": "markdown",
      "metadata": {
        "id": "dompQ6oEgVlk"
      },
      "source": [
        "# Training a binary classifier"
      ]
    },
    {
      "cell_type": "code",
      "metadata": {
        "id": "V1WBdKHGgS38"
      },
      "source": [
        "y_train_5 = (y_train == 5)\r\n",
        "y_test_5 = (y_test == 5)"
      ],
      "execution_count": 14,
      "outputs": []
    },
    {
      "cell_type": "code",
      "metadata": {
        "colab": {
          "base_uri": "https://localhost:8080/"
        },
        "id": "nfLiZ4p5gpnL",
        "outputId": "8b3a0fa5-f109-45b4-d158-9b15f21b4293"
      },
      "source": [
        "from sklearn.linear_model import SGDClassifier\r\n",
        "\r\n",
        "sgd_clf = SGDClassifier(random_state=42)\r\n",
        "sgd_clf.fit(X_train, y_train_5)"
      ],
      "execution_count": 15,
      "outputs": [
        {
          "output_type": "execute_result",
          "data": {
            "text/plain": [
              "SGDClassifier(alpha=0.0001, average=False, class_weight=None,\n",
              "              early_stopping=False, epsilon=0.1, eta0=0.0, fit_intercept=True,\n",
              "              l1_ratio=0.15, learning_rate='optimal', loss='hinge',\n",
              "              max_iter=1000, n_iter_no_change=5, n_jobs=None, penalty='l2',\n",
              "              power_t=0.5, random_state=42, shuffle=True, tol=0.001,\n",
              "              validation_fraction=0.1, verbose=0, warm_start=False)"
            ]
          },
          "metadata": {
            "tags": []
          },
          "execution_count": 15
        }
      ]
    },
    {
      "cell_type": "code",
      "metadata": {
        "colab": {
          "base_uri": "https://localhost:8080/"
        },
        "id": "1x_ZIIQSg73E",
        "outputId": "ca4be2d0-3be3-4766-996b-01600554cf04"
      },
      "source": [
        "sgd_clf.predict([some_digit])"
      ],
      "execution_count": 16,
      "outputs": [
        {
          "output_type": "execute_result",
          "data": {
            "text/plain": [
              "array([ True])"
            ]
          },
          "metadata": {
            "tags": []
          },
          "execution_count": 16
        }
      ]
    },
    {
      "cell_type": "markdown",
      "metadata": {
        "id": "YD2vwd6XhJBt"
      },
      "source": [
        "Manually coded stratified fold cross-validation"
      ]
    },
    {
      "cell_type": "code",
      "metadata": {
        "colab": {
          "base_uri": "https://localhost:8080/"
        },
        "id": "tMYq0YVphCl0",
        "outputId": "ed665b48-3b8c-48a8-9f48-2ab9149eb7fe"
      },
      "source": [
        "from sklearn.model_selection import StratifiedKFold\r\n",
        "from sklearn.base import clone\r\n",
        "\r\n",
        "skfolds = StratifiedKFold(n_splits=3) # random_state=42? removed due to warning\r\n",
        "\r\n",
        "for train_index, test_index in skfolds.split(X_train, y_train_5):\r\n",
        "  clone_clf = clone(sgd_clf)\r\n",
        "  X_train_folds = X_train[train_index]\r\n",
        "  y_train_folds = y_train_5[train_index]\r\n",
        "  X_test_fold = X_train[test_index]\r\n",
        "  y_test_fold = y_train_5[test_index]\r\n",
        "\r\n",
        "  clone_clf.fit(X_train_folds, y_train_folds)\r\n",
        "  y_pred = clone_clf.predict(X_test_fold)\r\n",
        "  n_correct = sum(y_pred == y_test_fold)\r\n",
        "  print(n_correct / len(y_pred))"
      ],
      "execution_count": 19,
      "outputs": [
        {
          "output_type": "stream",
          "text": [
            "0.9669\n",
            "0.91625\n",
            "0.96785\n"
          ],
          "name": "stdout"
        }
      ]
    },
    {
      "cell_type": "code",
      "metadata": {
        "colab": {
          "base_uri": "https://localhost:8080/"
        },
        "id": "tjRQe8mwismV",
        "outputId": "331f3f1c-00d7-4c39-8e08-d1cfb7fb29e4"
      },
      "source": [
        "from sklearn.model_selection import cross_val_score\r\n",
        "cross_val_score(sgd_clf,X_train,y_train_5, cv=3, scoring='accuracy')"
      ],
      "execution_count": 20,
      "outputs": [
        {
          "output_type": "execute_result",
          "data": {
            "text/plain": [
              "array([0.95035, 0.96035, 0.9604 ])"
            ]
          },
          "metadata": {
            "tags": []
          },
          "execution_count": 20
        }
      ]
    },
    {
      "cell_type": "markdown",
      "metadata": {
        "id": "LTW0Ni9Li-4V"
      },
      "source": [
        "Accuracy looks amazing, but remember it's only classifying the \"not-5\" class.  Just for fun, what is the accuracy of a model that always guesses \"not-5\""
      ]
    },
    {
      "cell_type": "code",
      "metadata": {
        "id": "ZKfst9W3f4E-"
      },
      "source": [
        "from sklearn.base import BaseEstimator\r\n",
        "\r\n",
        "class Never5Classifier(BaseEstimator):\r\n",
        "  def fit(self, X, y=None):\r\n",
        "    return self\r\n",
        "  def predict(self, X):\r\n",
        "    return np.zeros((len(X), 1), dtype=bool)"
      ],
      "execution_count": 21,
      "outputs": []
    },
    {
      "cell_type": "code",
      "metadata": {
        "colab": {
          "base_uri": "https://localhost:8080/"
        },
        "id": "WF7mklZhjKAj",
        "outputId": "9c2398d8-5057-473a-ed4b-12e4426d8f2d"
      },
      "source": [
        "never_5_clf = Never5Classifier()\r\n",
        "cross_val_score(never_5_clf, X_train, y_train_5, cv=3, scoring='accuracy')"
      ],
      "execution_count": 22,
      "outputs": [
        {
          "output_type": "execute_result",
          "data": {
            "text/plain": [
              "array([0.91125, 0.90855, 0.90915])"
            ]
          },
          "metadata": {
            "tags": []
          },
          "execution_count": 22
        }
      ]
    },
    {
      "cell_type": "markdown",
      "metadata": {
        "id": "9MoJAnBwjh9i"
      },
      "source": [
        "Obviously there needs to be more to it than this"
      ]
    },
    {
      "cell_type": "markdown",
      "metadata": {
        "id": "0L07LhQIjnwy"
      },
      "source": [
        "# Confusion matrix"
      ]
    },
    {
      "cell_type": "markdown",
      "metadata": {
        "id": "F6ulC0IdkMBE"
      },
      "source": [
        "First need to make some predictions to generate a confusion matrix (need top understand better)"
      ]
    },
    {
      "cell_type": "code",
      "metadata": {
        "id": "tng5tDi_jqbC"
      },
      "source": [
        "from sklearn.model_selection import cross_val_predict\r\n",
        "\r\n",
        "y_train_pred = cross_val_predict(sgd_clf, X_train, y_train_5, cv=3)"
      ],
      "execution_count": 24,
      "outputs": []
    },
    {
      "cell_type": "code",
      "metadata": {
        "colab": {
          "base_uri": "https://localhost:8080/"
        },
        "id": "NUq6jcKPj3gi",
        "outputId": "76f95eaa-1dc3-44fd-8bcf-e53f096fa172"
      },
      "source": [
        "from sklearn.metrics import confusion_matrix\r\n",
        "confusion_matrix(y_train_5, y_train_pred)"
      ],
      "execution_count": 25,
      "outputs": [
        {
          "output_type": "execute_result",
          "data": {
            "text/plain": [
              "array([[53892,   687],\n",
              "       [ 1891,  3530]])"
            ]
          },
          "metadata": {
            "tags": []
          },
          "execution_count": 25
        }
      ]
    },
    {
      "cell_type": "code",
      "metadata": {
        "colab": {
          "base_uri": "https://localhost:8080/"
        },
        "id": "rnlrE9LlkcXi",
        "outputId": "5b293010-6495-4721-d04a-25e9ec22f44b"
      },
      "source": [
        "y_train_perfect_predictions = y_train_5 # pretend we predicted perfect result\r\n",
        "confusion_matrix(y_train_5, y_train_perfect_predictions)"
      ],
      "execution_count": 26,
      "outputs": [
        {
          "output_type": "execute_result",
          "data": {
            "text/plain": [
              "array([[54579,     0],\n",
              "       [    0,  5421]])"
            ]
          },
          "metadata": {
            "tags": []
          },
          "execution_count": 26
        }
      ]
    },
    {
      "cell_type": "markdown",
      "metadata": {
        "id": "SeMtUU-1kqvT"
      },
      "source": [
        "Rows are representing the actual labels\r\n",
        "\r\n",
        "Columns are representing the predicted result"
      ]
    },
    {
      "cell_type": "markdown",
      "metadata": {
        "id": "d8YaF39TkpqC"
      },
      "source": [
        "Look up definition of :\r\n",
        "- **Precision** - TP/ (TP + FP)\r\n",
        "- **Recall** - TP/(TP+FN)\r\n",
        "- **F1 score** - (precision*recall)/(precision+recall)"
      ]
    },
    {
      "cell_type": "code",
      "metadata": {
        "id": "WaTJ7tRvlP5g"
      },
      "source": [
        "from sklearn.metrics import precisi\r\n"
      ],
      "execution_count": null,
      "outputs": []
    }
  ]
}