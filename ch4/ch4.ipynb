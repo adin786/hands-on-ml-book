{
  "nbformat": 4,
  "nbformat_minor": 0,
  "metadata": {
    "colab": {
      "name": "ch4.ipynb",
      "provenance": [],
      "collapsed_sections": [],
      "authorship_tag": "ABX9TyPnaN6NFJYYjdmjhAdGMvQb",
      "include_colab_link": true
    },
    "kernelspec": {
      "name": "python3",
      "display_name": "Python 3"
    }
  },
  "cells": [
    {
      "cell_type": "markdown",
      "metadata": {
        "id": "view-in-github",
        "colab_type": "text"
      },
      "source": [
        "<a href=\"https://colab.research.google.com/github/adin786/hands-on-ml-book/blob/main/ch4/ch4.ipynb\" target=\"_parent\"><img src=\"https://colab.research.google.com/assets/colab-badge.svg\" alt=\"Open In Colab\"/></a>"
      ]
    },
    {
      "cell_type": "markdown",
      "metadata": {
        "id": "rMjLtsUFHT4_"
      },
      "source": [
        "# Normal equation"
      ]
    },
    {
      "cell_type": "code",
      "metadata": {
        "id": "nq7r3QucGGDF"
      },
      "source": [
        "import numpy as np\r\n",
        "\r\n",
        "X = 2 * np.random.rand(100,1)\r\n",
        "y = 4 + 3 * X + np.random.randn(100,1)"
      ],
      "execution_count": 1,
      "outputs": []
    },
    {
      "cell_type": "code",
      "metadata": {
        "id": "IxwUu3kbG9CO"
      },
      "source": [
        ""
      ],
      "execution_count": null,
      "outputs": []
    }
  ]
}