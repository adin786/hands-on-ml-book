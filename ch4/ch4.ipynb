{
  "nbformat": 4,
  "nbformat_minor": 0,
  "metadata": {
    "colab": {
      "name": "ch4.ipynb",
      "provenance": [],
      "collapsed_sections": [],
      "toc_visible": true,
      "authorship_tag": "ABX9TyPqHoKyjJRWxvWipXHwjjf6",
      "include_colab_link": true
    },
    "kernelspec": {
      "name": "python3",
      "display_name": "Python 3"
    }
  },
  "cells": [
    {
      "cell_type": "markdown",
      "metadata": {
        "id": "view-in-github",
        "colab_type": "text"
      },
      "source": [
        "<a href=\"https://colab.research.google.com/github/adin786/hands-on-ml-book/blob/main/ch4/ch4.ipynb\" target=\"_parent\"><img src=\"https://colab.research.google.com/assets/colab-badge.svg\" alt=\"Open In Colab\"/></a>"
      ]
    },
    {
      "cell_type": "code",
      "metadata": {
        "id": "I2rjaXy0OC4q"
      },
      "source": [
        "import numpy as np\r\n",
        "import numpy.random as rnd\r\n",
        "import matplotlib.pyplot as plt\r\n",
        "# from sklearn.linear_model import LinearRegression\r\n",
        "# from sklearn.linear_model import SGDRegressor\r\n",
        "# from sklearn.metrics import mean_squared_error\r\n",
        "# from sklearn.model_selection import train_test_split\r\n",
        "# from sklearn.linear_model import Ridge\r\n",
        "# from sklearn.linear_model import Lasso\r\n"
      ],
      "execution_count": 1,
      "outputs": []
    },
    {
      "cell_type": "markdown",
      "metadata": {
        "id": "aT_hzuolO3Mr"
      },
      "source": [
        "# Linear Regression\r\n",
        "Set up some sample data for X and y vector, m = 100 and n=1"
      ]
    },
    {
      "cell_type": "code",
      "metadata": {
        "colab": {
          "base_uri": "https://localhost:8080/",
          "height": 286
        },
        "id": "IxwUu3kbG9CO",
        "outputId": "cb19809b-fd1e-4209-89a6-961f5fb066bb"
      },
      "source": [
        "X = 2 * np.random.rand(100,1)\r\n",
        "y = 4 + 3 * X + np.random.randn(100,1)\r\n",
        "\r\n",
        "# Visualise the X and y data\r\n",
        "plt.plot(X, y, \"b.\")\r\n",
        "plt.xlabel(\"$x_1$\", fontsize=18)\r\n",
        "plt.ylabel(\"$y$\", rotation=0, fontsize=18)\r\n",
        "plt.axis([0, 2, 0, 15])\r\n",
        "plt.show()"
      ],
      "execution_count": 9,
      "outputs": [
        {
          "output_type": "display_data",
          "data": {
            "image/png": "[encoded data removed]",
            "text/plain": [
              "<Figure size 432x288 with 1 Axes>"
            ]
          },
          "metadata": {
            "tags": [],
            "needs_background": "light"
          }
        }
      ]
    },
    {
      "cell_type": "markdown",
      "metadata": {
        "id": "rMjLtsUFHT4_"
      },
      "source": [
        "## Normal equation\r\n",
        "Solve the normal equation Using *np.linalg* method"
      ]
    },
    {
      "cell_type": "code",
      "metadata": {
        "id": "7EaeaZUDOPbA",
        "colab": {
          "base_uri": "https://localhost:8080/"
        },
        "outputId": "d081d36e-d08e-49dd-fa7c-dc805d41712d"
      },
      "source": [
        "# Solve normal equation\r\n",
        "X_b = np.c_[np.ones((100, 1)), X]  # add x0 = 1 to each instance\r\n",
        "theta_best = np.linalg.inv(X_b.T.dot(X_b)).dot(X_b.T).dot(y)\r\n",
        "\r\n",
        "# Print the model params (theta)\r\n",
        "print(f'Model params are theta0={theta_best[0]}, theta1={theta_best[1]}')"
      ],
      "execution_count": 26,
      "outputs": [
        {
          "output_type": "stream",
          "text": [
            "Model params are theta0=[4.5477566], theta1=[2.55559168]\n"
          ],
          "name": "stdout"
        }
      ]
    },
    {
      "cell_type": "markdown",
      "metadata": {
        "id": "JW1ZPP-JKE6g"
      },
      "source": [
        "Make a prediction using the solved params theta0 and theta1"
      ]
    },
    {
      "cell_type": "code",
      "metadata": {
        "colab": {
          "base_uri": "https://localhost:8080/"
        },
        "id": "xc-Xvb7iORmI",
        "outputId": "de90c893-fac6-4f17-f139-3cf36b7f036a"
      },
      "source": [
        "# Create input vector X at X=0 and X=2 so we can draw a prediction line later\r\n",
        "X_new = np.array([[0], [2]])\r\n",
        "X_new_b = np.c_[np.ones((2, 1)), X_new]  # add x0 = 1 to each instance\r\n",
        "\r\n",
        "# Compute prediction\r\n",
        "y_predict = X_new_b.dot(theta_best)\r\n",
        "print(f'Predicted vales (@X=0) y_predict={y_predict[0]}, and (@X=2) y_predict={y_predict[1]}')"
      ],
      "execution_count": 28,
      "outputs": [
        {
          "output_type": "stream",
          "text": [
            "Predicted vales (@X=0) y_predict=[4.5477566], and (@X=2) y_predict=[9.65893996]\n"
          ],
          "name": "stdout"
        }
      ]
    },
    {
      "cell_type": "code",
      "metadata": {
        "colab": {
          "base_uri": "https://localhost:8080/",
          "height": 286
        },
        "id": "ZEUigS8nOpP6",
        "outputId": "cbdea827-1fa8-4134-dea9-54770a6f1591"
      },
      "source": [
        "# Plot the prediction line overlaid on the raw data points\r\n",
        "plt.plot(X_new, y_predict, \"r-\", linewidth=2, label=\"Predictions\")\r\n",
        "plt.plot(X, y, \"b.\")\r\n",
        "plt.xlabel(\"$x_1$\", fontsize=18)\r\n",
        "plt.ylabel(\"$y$\", rotation=0, fontsize=18)\r\n",
        "plt.legend(loc=\"upper left\", fontsize=14)\r\n",
        "plt.axis([0, 2, 0, 15])\r\n",
        "plt.show()"
      ],
      "execution_count": 20,
      "outputs": [
        {
          "output_type": "display_data",
          "data": {
            "image/png": "[encoded data removed]",
            "text/plain": [
              "<Figure size 432x288 with 1 Axes>"
            ]
          },
          "metadata": {
            "tags": [],
            "needs_background": "light"
          }
        }
      ]
    },
    {
      "cell_type": "markdown",
      "metadata": {
        "id": "DKjx2Wk4MRXS"
      },
      "source": [
        "### Using built in sklearn method\r\n",
        "Attempt the same job using batch gradient descent method (computes over full dataset at each step"
      ]
    },
    {
      "cell_type": "code",
      "metadata": {
        "id": "SLy3Dy_gLyoZ"
      },
      "source": [
        "from sklearn.linear_model import LinearRegression"
      ],
      "execution_count": 23,
      "outputs": []
    },
    {
      "cell_type": "code",
      "metadata": {
        "colab": {
          "base_uri": "https://localhost:8080/"
        },
        "id": "3Ds_yHqKOsNb",
        "outputId": "60a62202-5325-48b1-a6ac-407e8f7d650f"
      },
      "source": [
        "# Train the model using sklearn built in class\r\n",
        "lin_reg = LinearRegression()\r\n",
        "lin_reg.fit(X, y)\r\n",
        "print(f'Model params are theta0={lin_reg.intercept_}, theta1={lin_reg.coef_[0]}')\r\n",
        "\r\n",
        "# Predict \r\n",
        "print(f'Predicted vales (@X=0) y_predict={lin_reg.predict(X_new)[0]} and (@X=2) y_predict={lin_reg.predict(X_new)[1]}')\r\n",
        "\r\n",
        "# Book says sklearn LinearRegression is based on np.linalg.lstsq function"
      ],
      "execution_count": 34,
      "outputs": [
        {
          "output_type": "stream",
          "text": [
            "Model params are theta0=[4.5477566], theta1=[2.55559168]\n",
            "Predicted vales (@X=0) y_predict=[4.5477566] and (@X=2) y_predict=[9.65893996]\n"
          ],
          "name": "stdout"
        }
      ]
    },
    {
      "cell_type": "markdown",
      "metadata": {
        "id": "_sUNSPzOO6Hj"
      },
      "source": [
        "End up with basically the same result\r\n",
        "\r\n",
        "Something about the np.linalg.lstsq function computing the pseudoinverse of X.\r\n",
        "\r\n",
        "Can use the np.linalg.pinv function to caclulate the pseudoinverse directly.\r\n",
        "\r\n",
        "This is calculated using a standard matrix factorization technique called SVD **(singular value decomposition)**. It does this by setting all near-zero values in the matrix to zero, replaces them with their inverse, and transposes this.\r\n",
        "\r\n",
        "This approach is more efficient and robust than computing the Normal equation, X^T.X cannot be inverted if m < n,  The pseudoinverse can always be calculated"
      ]
    },
    {
      "cell_type": "markdown",
      "metadata": {
        "id": "GtZoScjZRW0a"
      },
      "source": [
        "### Computational complexity\r\n",
        "An argument to use something other than Normal Equation when n is large (number of features).\r\n",
        "\r\n",
        "- **[CON]** Normal equation computes inverse of a matrix, complexity is typically O(n^2.4) to O(n^3). SVD pseudoinverse method has complexity O(n^2)\r\n",
        "\r\n",
        "- **[PRO]** Both are linear with regard to number of instances in training set, so scale well with training set size. Complexity is basically O(m).  But inefficient for large numbers of features.\r\n",
        "\r\n",
        "- **[PRO]** Linear Regression predictions are fast, and scale linearly with number of instances, and number of features.\r\n"
      ]
    },
    {
      "cell_type": "markdown",
      "metadata": {
        "id": "ep2pBy0X1zCu"
      },
      "source": [
        "## Batch gradient descent"
      ]
    },
    {
      "cell_type": "markdown",
      "metadata": {
        "id": "QQ34wNLaPJca"
      },
      "source": [
        "Solving manually where:\r\n",
        "\r\n",
        "theta_next = theta - (learningRate)*(GradientOfMSE)"
      ]
    },
    {
      "cell_type": "code",
      "metadata": {
        "id": "6g4oPBO612L2",
        "colab": {
          "base_uri": "https://localhost:8080/"
        },
        "outputId": "b11badd4-0d29-40ac-985c-7936967f461e"
      },
      "source": [
        "# Manually coded batch gradient descent\n",
        "eta = 0.1 # Learning rate\n",
        "n_iterations = 1000\n",
        "m = 100\n",
        "theta = np.random.randn(2,1) # Initialise theta with random values\n",
        "print(f'Model params initialised with random values theta0={theta[0]}, theta1={theta[1]}')\n",
        "\n",
        "# Iteratively solve gradient descent equation\n",
        "for iteration in range(n_iterations):\n",
        "    gradients = 2/m * X_b.T.dot(X_b.dot(theta) - y)\n",
        "    theta = theta - eta * gradients\n",
        "\n",
        "print(f'Model params are theta0={lin_reg.intercept_}, theta1={lin_reg.coef_[0]}')"
      ],
      "execution_count": 37,
      "outputs": [
        {
          "output_type": "stream",
          "text": [
            "Model params initialised with random values theta0=[1.06142149], theta1=[0.75430367]\n",
            "Model params are theta0=[4.5477566], theta1=[2.55559168]\n"
          ],
          "name": "stdout"
        }
      ]
    },
    {
      "cell_type": "markdown",
      "metadata": {
        "id": "6e5-h0sXPo1y"
      },
      "source": [
        "Result looks good, but **what if we changed the learning rate**"
      ]
    },
    {
      "cell_type": "code",
      "metadata": {
        "colab": {
          "base_uri": "https://localhost:8080/",
          "height": 306
        },
        "id": "Xgf8e2hdPyJD",
        "outputId": "56f0ef82-6bbf-4c1d-8af0-9a29c4577194"
      },
      "source": [
        "theta_path_bgd = []\r\n",
        "\r\n",
        "def plot_gradient_descent(theta, eta, theta_path=None):\r\n",
        "    m = len(X_b)\r\n",
        "    plt.plot(X, y, \"b.\")\r\n",
        "    n_iterations = 1000\r\n",
        "    for iteration in range(n_iterations):\r\n",
        "        if iteration < 10:\r\n",
        "            y_predict = X_new_b.dot(theta)\r\n",
        "            style = \"b-\" if iteration > 0 else \"r--\"\r\n",
        "            plt.plot(X_new, y_predict, style)\r\n",
        "        gradients = 2/m * X_b.T.dot(X_b.dot(theta) - y)\r\n",
        "        theta = theta - eta * gradients\r\n",
        "        if theta_path is not None:\r\n",
        "            theta_path.append(theta)\r\n",
        "    plt.xlabel(\"$x_1$\", fontsize=18)\r\n",
        "    plt.axis([0, 2, 0, 15])\r\n",
        "    plt.title(r\"$\\eta = {}$\".format(eta), fontsize=16)\r\n",
        "\r\n",
        "np.random.seed(42)\r\n",
        "theta = np.random.randn(2,1)  # random initialization\r\n",
        "\r\n",
        "plt.figure(figsize=(10,4))\r\n",
        "plt.subplot(131); plot_gradient_descent(theta, eta=0.02)\r\n",
        "plt.ylabel(\"$y$\", rotation=0, fontsize=18)\r\n",
        "plt.subplot(132); plot_gradient_descent(theta, eta=0.1, theta_path=theta_path_bgd)\r\n",
        "plt.subplot(133); plot_gradient_descent(theta, eta=0.5)\r\n",
        "plt.show()"
      ],
      "execution_count": 41,
      "outputs": [
        {
          "output_type": "display_data",
          "data": {
            "image/png": "[encoded data removed]",
            "text/plain": [
              "<Figure size 720x288 with 3 Axes>"
            ]
          },
          "metadata": {
            "tags": [],
            "needs_background": "light"
          }
        }
      ]
    },
    {
      "cell_type": "markdown",
      "metadata": {
        "id": "O84cP3S3QNJb"
      },
      "source": [
        "- In middle, learning rate looks good.\r\n",
        "- On left, learning erate is too low and takes too long to converge.\r\n",
        "- On right, learning rate too high and model *diverges*!"
      ]
    },
    {
      "cell_type": "markdown",
      "metadata": {
        "id": "S4BwD0QLRMv5"
      },
      "source": [
        "## Stochastic Gradient Descent\r\n",
        "Uses a random instance in the training set to compute the gradients only on that instance.  Computationally fast, but less regular."
      ]
    },
    {
      "cell_type": "code",
      "metadata": {
        "colab": {
          "base_uri": "https://localhost:8080/"
        },
        "id": "ExPCr2TwRaoh",
        "outputId": "dbde99a6-0fae-4e85-df94-737aeafd9526"
      },
      "source": [
        "n_epochs = 50\r\n",
        "t0, t1, = 5, 50   # learning schedule\r\n",
        "\r\n",
        "def learning_schedule(t):\r\n",
        "  return t0 / (t + t1)\r\n",
        "\r\n",
        "# Initialise random theta start values\r\n",
        "theta = np.random.randn(2,1)\r\n",
        "\r\n",
        "for epoch in range(n_epochs):\r\n",
        "  for i in range(m): # loop for every training instance\r\n",
        "    random_index = np.random.randint(m)  # Select a random instance\r\n",
        "    xi = X_b[random_index:random_index+1]\r\n",
        "    yi = y[random_index:random_index+1]\r\n",
        "    gradients = 2 * xi.T.dot(xi.dot(theta) - yi)\r\n",
        "    eta = learning_schedule(epoch*m + i)\r\n",
        "    theta = theta - eta * gradients\r\n",
        "\r\n",
        "print(f'Model params are theta0={theta[0]}, theta1={theta[1]}')"
      ],
      "execution_count": 42,
      "outputs": [
        {
          "output_type": "stream",
          "text": [
            "Model params are theta0=[4.54751644], theta1=[2.56840546]\n"
          ],
          "name": "stdout"
        }
      ]
    },
    {
      "cell_type": "markdown",
      "metadata": {
        "id": "s36fvPr4UWZr"
      },
      "source": [
        "That was basically a manually coded version of the sklearn **SGDRegressor** method which follows"
      ]
    },
    {
      "cell_type": "code",
      "metadata": {
        "colab": {
          "base_uri": "https://localhost:8080/"
        },
        "id": "T8b4b9LxUmr4",
        "outputId": "5c68ac0b-5e24-4469-ea53-724fb169c0e4"
      },
      "source": [
        "from sklearn.linear_model import SGDRegressor\r\n",
        "sgd_reg = SGDRegressor(max_iter=1000, tol = 1e-3, penalty = None, eta0=0.1)\r\n",
        "sgd_reg.fit(X, y.ravel())\r\n",
        "\r\n",
        "print(f'Model params are theta0={sgd_reg.intercept_}, theta1={sgd_reg.coef_}')\r\n"
      ],
      "execution_count": 47,
      "outputs": [
        {
          "output_type": "stream",
          "text": [
            "Model params are theta0=[4.58234511], theta1=[2.58298347]\n"
          ],
          "name": "stdout"
        }
      ]
    },
    {
      "cell_type": "markdown",
      "metadata": {
        "id": "aENfs1l0VSag"
      },
      "source": [
        "## Mini-batch Gradient Descent\r\n",
        "Does the same as stochastic gradient descent, but uses a small random subset of instances in the training data, rather than a single instance. Result is smoother progress."
      ]
    },
    {
      "cell_type": "code",
      "metadata": {
        "colab": {
          "base_uri": "https://localhost:8080/"
        },
        "id": "5718ukr0VbPB",
        "outputId": "b9139f13-daae-4a5a-9193-d2719db0abd8"
      },
      "source": [
        "n_iterations = 50\r\n",
        "minibatch_size = 20\r\n",
        "\r\n",
        "np.random.seed(42)\r\n",
        "theta = np.random.randn(2,1)  # random initialization\r\n",
        "\r\n",
        "t0, t1 = 200, 1000\r\n",
        "def learning_schedule(t):\r\n",
        "    return t0 / (t + t1)\r\n",
        "\r\n",
        "t = 0\r\n",
        "for epoch in range(n_iterations):\r\n",
        "    shuffled_indices = np.random.permutation(m)\r\n",
        "    X_b_shuffled = X_b[shuffled_indices]\r\n",
        "    y_shuffled = y[shuffled_indices]\r\n",
        "    for i in range(0, m, minibatch_size):\r\n",
        "        t += 1\r\n",
        "        xi = X_b_shuffled[i:i+minibatch_size]\r\n",
        "        yi = y_shuffled[i:i+minibatch_size]\r\n",
        "        gradients = 2/minibatch_size * xi.T.dot(xi.dot(theta) - yi)\r\n",
        "        eta = learning_schedule(t)\r\n",
        "        theta = theta - eta * gradients\r\n",
        "\r\n",
        "print(f'Model params are theta0={theta[0]}, theta1={theta[1]}')\r\n"
      ],
      "execution_count": 49,
      "outputs": [
        {
          "output_type": "stream",
          "text": [
            "Model params are theta0=[4.58389729], theta1=[2.6109958]\n"
          ],
          "name": "stdout"
        }
      ]
    },
    {
      "cell_type": "markdown",
      "metadata": {
        "id": "w77vYX_YOo-K"
      },
      "source": [
        "# Polynomial Regression\r\n",
        "Generate some sample data again in X, y vectors"
      ]
    },
    {
      "cell_type": "code",
      "metadata": {
        "id": "mSScy5pxWNgB"
      },
      "source": [
        "import numpy as np\r\n",
        "import numpy.random as rnd\r\n",
        "import matplotlib.pyplot as plt"
      ],
      "execution_count": 51,
      "outputs": []
    },
    {
      "cell_type": "code",
      "metadata": {
        "colab": {
          "base_uri": "https://localhost:8080/",
          "height": 291
        },
        "id": "pPK2Ftq9Osf3",
        "outputId": "5c8eacb1-ef24-46fd-87cb-f457a124dc2d"
      },
      "source": [
        "np.random.seed(42)\r\n",
        "m = 100\r\n",
        "X = 6 * np.random.rand(m, 1) - 3\r\n",
        "y = 0.5 * X**2 + X + 2 + np.random.randn(m, 1)\r\n",
        "\r\n",
        "# Visualise the data\r\n",
        "plt.plot(X, y, \"b.\")\r\n",
        "plt.xlabel(\"$x_1$\", fontsize=18)\r\n",
        "plt.ylabel(\"$y$\", rotation=0, fontsize=18)\r\n",
        "plt.axis([-3, 3, 0, 10])\r\n",
        "plt.show()"
      ],
      "execution_count": 52,
      "outputs": [
        {
          "output_type": "display_data",
          "data": {
            "image/png": "[encoded data removed]",
            "text/plain": [
              "<Figure size 432x288 with 1 Axes>"
            ]
          },
          "metadata": {
            "tags": [],
            "needs_background": "light"
          }
        }
      ]
    },
    {
      "cell_type": "markdown",
      "metadata": {
        "id": "IyoA92DuPNAG"
      },
      "source": [
        "Straight line will never fit this data properly. So we use the sklearn PolynomialFeatures class to add one squared term for every feature of the training set\r\n",
        "\r\n",
        "**transforms an array of *n* features into one of (n+d)!/n!d!**, where d is the degree(?)"
      ]
    },
    {
      "cell_type": "code",
      "metadata": {
        "colab": {
          "base_uri": "https://localhost:8080/"
        },
        "id": "NuRoIK5xO08h",
        "outputId": "2cf8abb7-dd55-48c0-d5c0-7fd8e3f0ef43"
      },
      "source": [
        "from sklearn.preprocessing import PolynomialFeatures\r\n",
        "poly_features = PolynomialFeatures(degree=2, include_bias=False)\r\n",
        "X_poly = poly_features.fit_transform(X)\r\n",
        "print(f'Feature one in training set:{X[0]}')\r\n",
        "print(f'Feature one with it\\'s squared term added: {X_poly[0]}')"
      ],
      "execution_count": 53,
      "outputs": [
        {
          "output_type": "stream",
          "text": [
            "Feature one in training set:[-0.75275929]\n",
            "Feature one with it's squared term added: [-0.75275929  0.56664654]\n"
          ],
          "name": "stdout"
        }
      ]
    },
    {
      "cell_type": "markdown",
      "metadata": {
        "id": "YDa14Yu0QDR_"
      },
      "source": [
        "Now simply fit a linear regression model to this extended training data\r\n",
        "\r\n",
        "Model is of the form: y=c + m1.X + m2.X^2"
      ]
    },
    {
      "cell_type": "code",
      "metadata": {
        "colab": {
          "base_uri": "https://localhost:8080/",
          "height": 308
        },
        "id": "kth7we0lP-0H",
        "outputId": "e6809694-1743-44a9-d41c-21f031c7b653"
      },
      "source": [
        "from sklearn.linear_model import LinearRegression\r\n",
        "lin_reg = LinearRegression()\r\n",
        "lin_reg.fit(X_poly, y)\r\n",
        "print(f'Model params are [theta0,theta1,theta2] = {np.concatenate((lin_reg.intercept_,lin_reg.coef_[0]))}')\r\n",
        "\r\n",
        "X_new=np.linspace(-3, 3, 100).reshape(100, 1)\r\n",
        "X_new_poly = poly_features.transform(X_new)\r\n",
        "y_new = lin_reg.predict(X_new_poly)\r\n",
        "plt.plot(X, y, \"b.\")\r\n",
        "plt.plot(X_new, y_new, \"r-\", linewidth=2, label=\"Predictions\")\r\n",
        "plt.xlabel(\"$x_1$\", fontsize=18)\r\n",
        "plt.ylabel(\"$y$\", rotation=0, fontsize=18)\r\n",
        "plt.legend(loc=\"upper left\", fontsize=14)\r\n",
        "plt.axis([-3, 3, 0, 10])\r\n",
        "plt.show()"
      ],
      "execution_count": 64,
      "outputs": [
        {
          "output_type": "stream",
          "text": [
            "Model params are [theta0,theta1,theta2] = [1.78134581 0.93366893 0.56456263]\n"
          ],
          "name": "stdout"
        },
        {
          "output_type": "display_data",
          "data": {
            "image/png": "[encoded data removed]",
            "text/plain": [
              "<Figure size 432x288 with 1 Axes>"
            ]
          },
          "metadata": {
            "tags": [],
            "needs_background": "light"
          }
        }
      ]
    },
    {
      "cell_type": "markdown",
      "metadata": {
        "id": "UKgT_VJqXjyJ"
      },
      "source": [
        "- So the model estimates y = 0.56x^2 + 0.93x + 1.78\r\n",
        "- In reality the data is y = 0.50x^2 + 1.00x + 2.0 + gaussian_noise"
      ]
    },
    {
      "cell_type": "markdown",
      "metadata": {
        "id": "xenpwmz1YNx7"
      },
      "source": [
        "# Learning curves / Regularisation\r\n"
      ]
    },
    {
      "cell_type": "code",
      "metadata": {
        "id": "3DpgFQJRZacq"
      },
      "source": [
        "from sklearn.metrics import mean_squared_error\r\n",
        "from sklearn.model_selection import train_test_split"
      ],
      "execution_count": 65,
      "outputs": []
    },
    {
      "cell_type": "code",
      "metadata": {
        "colab": {
          "base_uri": "https://localhost:8080/",
          "height": 286
        },
        "id": "GUbKcXJbYX1b",
        "outputId": "05cfb70c-611e-4da5-e7aa-448e82e8d499"
      },
      "source": [
        "def plot_learning_curves(model, X, y):\r\n",
        "    X_train, X_val, y_train, y_val = train_test_split(X, y, test_size=0.2, random_state=10)\r\n",
        "    train_errors, val_errors = [], []\r\n",
        "    for m in range(1, len(X_train)):\r\n",
        "        model.fit(X_train[:m], y_train[:m])\r\n",
        "        y_train_predict = model.predict(X_train[:m])\r\n",
        "        y_val_predict = model.predict(X_val)\r\n",
        "        train_errors.append(mean_squared_error(y_train[:m], y_train_predict))\r\n",
        "        val_errors.append(mean_squared_error(y_val, y_val_predict))\r\n",
        "\r\n",
        "    plt.plot(np.sqrt(train_errors), \"r-+\", linewidth=2, label=\"train\")\r\n",
        "    plt.plot(np.sqrt(val_errors), \"b-\", linewidth=3, label=\"val\")\r\n",
        "    plt.legend(loc=\"upper right\", fontsize=14)   # not shown in the book\r\n",
        "    plt.xlabel(\"Training set size\", fontsize=14) # not shown\r\n",
        "    plt.ylabel(\"RMSE\", fontsize=14)              # not shown\r\n",
        "\r\n",
        "lin_reg = LinearRegression()\r\n",
        "plot_learning_curves(lin_reg, X, y)\r\n",
        "plt.axis([0, 80, 0, 3])                         # not shown in the book\r\n",
        "plt.show()       "
      ],
      "execution_count": 66,
      "outputs": [
        {
          "output_type": "display_data",
          "data": {
            "image/png": "[encoded data removed]",
            "text/plain": [
              "<Figure size 432x288 with 1 Axes>"
            ]
          },
          "metadata": {
            "tags": [],
            "needs_background": "light"
          }
        }
      ]
    },
    {
      "cell_type": "markdown",
      "metadata": {
        "id": "l9FKuzGJaKAU"
      },
      "source": [
        "Above is typical of an underfit model.  Plateaus and doesn't get better with more data.\r\n",
        "\r\n",
        "Let's try a 10th degree polynomial"
      ]
    },
    {
      "cell_type": "code",
      "metadata": {
        "colab": {
          "base_uri": "https://localhost:8080/",
          "height": 304
        },
        "id": "jG0SX3NaZf4H",
        "outputId": "07a0fb18-f67a-4dda-fd3b-a3daad17e904"
      },
      "source": [
        "from sklearn.pipeline import Pipeline\r\n",
        "\r\n",
        "polynomial_regression = Pipeline([\r\n",
        "                                  (\"poly_features\", PolynomialFeatures(degree=10, include_bias=False)),\r\n",
        "                                  (\"lin_reg\", LinearRegression()),\r\n",
        "])\r\n",
        "\r\n",
        "plot_learning_curves(polynomial_regression, X, y)\r\n",
        "plt.axis([0, 80, 0, 3])           # not shown"
      ],
      "execution_count": 68,
      "outputs": [
        {
          "output_type": "execute_result",
          "data": {
            "text/plain": [
              "(0.0, 80.0, 0.0, 3.0)"
            ]
          },
          "metadata": {
            "tags": []
          },
          "execution_count": 68
        },
        {
          "output_type": "display_data",
          "data": {
            "image/png": "[encoded data removed]",
            "text/plain": [
              "<Figure size 432x288 with 1 Axes>"
            ]
          },
          "metadata": {
            "tags": [],
            "needs_background": "light"
          }
        }
      ]
    },
    {
      "cell_type": "markdown",
      "metadata": {
        "id": "Qern7D8Ka4J2"
      },
      "source": [
        "The above is typical of an overfitting model.  While the error levels are lower this time, as the num samples increases, the validation error and training error do not get close together.\r\n",
        "\r\n",
        "This model won't generalise well"
      ]
    },
    {
      "cell_type": "markdown",
      "metadata": {
        "id": "rfH85ZafauUI"
      },
      "source": [
        "## Ridge Regression\r\n",
        "Adds an \"L2\" loss term"
      ]
    },
    {
      "cell_type": "code",
      "metadata": {
        "id": "DF4BvSalbYGD"
      },
      "source": [
        "# Generate sample dataset\r\n",
        "np.random.seed(42)\r\n",
        "m = 20\r\n",
        "X = 3 * np.random.rand(m, 1)\r\n",
        "y = 1 + 0.5 * X + np.random.randn(m, 1) / 1.5\r\n",
        "X_new = np.linspace(0, 3, 100).reshape(100, 1) # for plotting only"
      ],
      "execution_count": 70,
      "outputs": []
    },
    {
      "cell_type": "markdown",
      "metadata": {
        "id": "F7XEhK0jbxN8"
      },
      "source": [
        "Using a closed form method like Normal Equation, but with Ridge Regression loss term included. and using matrix factorisation technique"
      ]
    },
    {
      "cell_type": "code",
      "metadata": {
        "colab": {
          "base_uri": "https://localhost:8080/"
        },
        "id": "8yOOEXNncIqR",
        "outputId": "4855671a-1945-4b44-db4b-9c55f06888ed"
      },
      "source": [
        "# Train ridge regression model\r\n",
        "from sklearn.linear_model import Ridge\r\n",
        "ridge_reg = Ridge(alpha=1, solver=\"cholesky\")\r\n",
        "ridge_reg.fit(X, y)\r\n",
        "print(f'[RIDGE] Predicted y value = {ridge_reg.predict([[1.5]])[0]}')"
      ],
      "execution_count": 82,
      "outputs": [
        {
          "output_type": "stream",
          "text": [
            "[RIDGE] Predicted y value = [1.55071465]\n"
          ],
          "name": "stdout"
        }
      ]
    },
    {
      "cell_type": "code",
      "metadata": {
        "colab": {
          "base_uri": "https://localhost:8080/"
        },
        "id": "P5ZM41qIcOlF",
        "outputId": "93a0ccc6-fdeb-4883-93bd-33a3b4cf09a3"
      },
      "source": [
        "# Can also try with a Stochastic Grad Descent model\r\n",
        "from sklearn.linear_model import SGDRegressor\r\n",
        "sgd_reg = SGDRegressor(penalty=\"l2\")\r\n",
        "sgd_reg.fit(X, y.ravel())\r\n",
        "print(f'[SGD] Predicted y value = {sgd_reg.predict([[1.5]])}')"
      ],
      "execution_count": 83,
      "outputs": [
        {
          "output_type": "stream",
          "text": [
            "[SGD] Predicted y value = [1.46641101]\n"
          ],
          "name": "stdout"
        }
      ]
    },
    {
      "cell_type": "markdown",
      "metadata": {
        "id": "UkDCupf-cxnx"
      },
      "source": [
        "## Lasso regularisation\r\n",
        "Adds an \"L1\" loss term"
      ]
    },
    {
      "cell_type": "code",
      "metadata": {
        "colab": {
          "base_uri": "https://localhost:8080/"
        },
        "id": "_Cr-sFxDdM6_",
        "outputId": "519b49e5-5e0d-4d6c-984b-aa5fef6c8b8a"
      },
      "source": [
        "from sklearn.linear_model import Lasso\r\n",
        "lasso_reg = Lasso(alpha=0.1)\r\n",
        "lasso_reg.fit(X, y)\r\n",
        "print(f'[LASSO] Predicted y value = {lasso_reg.predict([[1.5]])}')"
      ],
      "execution_count": 84,
      "outputs": [
        {
          "output_type": "stream",
          "text": [
            "[LASSO] Predicted y value = [1.53788174]\n"
          ],
          "name": "stdout"
        }
      ]
    },
    {
      "cell_type": "markdown",
      "metadata": {
        "id": "qqEtce-xd1z_"
      },
      "source": [
        "## Elastic-net\r\n",
        "Adds both \"L1\" and \"L2\" loss terms"
      ]
    },
    {
      "cell_type": "code",
      "metadata": {
        "colab": {
          "base_uri": "https://localhost:8080/"
        },
        "id": "pTPrGmGjdp0G",
        "outputId": "00bbee2c-e4dd-4df4-ddd9-0e097b5c438a"
      },
      "source": [
        "from sklearn.linear_model import ElasticNet\r\n",
        "elastic_net = ElasticNet(alpha=0.1, l1_ratio=0.5)\r\n",
        "elastic_net.fit(X, y)\r\n",
        "print(f'[Elastic-net] Predicted y value = {elastic_net.predict([[1.5]])}')"
      ],
      "execution_count": 87,
      "outputs": [
        {
          "output_type": "stream",
          "text": [
            "[Elastic-net] Predicted y value = [1.54333232]\n"
          ],
          "name": "stdout"
        }
      ]
    },
    {
      "cell_type": "markdown",
      "metadata": {
        "id": "Nq4sFTaUeX3k"
      },
      "source": [
        "## Early stopping method"
      ]
    },
    {
      "cell_type": "code",
      "metadata": {
        "id": "_b5vzo9VeamO"
      },
      "source": [
        "from copy import deepcopy\r\n",
        "from sklearn.preprocessing import StandardScaler\r\n",
        "\r\n",
        "# Generate some sample training data\r\n",
        "np.random.seed(42)\r\n",
        "m = 100\r\n",
        "X = 6 * np.random.rand(m, 1) - 3\r\n",
        "y = 2 + X + 0.5 * X**2 + np.random.randn(m, 1)\r\n",
        "X_train, X_val, y_train, y_val = train_test_split(X[:50], y[:50].ravel(), test_size=0.5, random_state=10)\r\n",
        "\r\n",
        "poly_scaler = Pipeline([\r\n",
        "        (\"poly_features\", PolynomialFeatures(degree=90, include_bias=False)),\r\n",
        "        (\"std_scaler\", StandardScaler())\r\n",
        "    ])\r\n",
        "\r\n",
        "X_train_poly_scaled = poly_scaler.fit_transform(X_train)\r\n",
        "X_val_poly_scaled = poly_scaler.transform(X_val)\r\n",
        "\r\n",
        "sgd_reg = SGDRegressor(max_iter=1, tol=-np.infty, warm_start=True,\r\n",
        "                       penalty=None, learning_rate=\"constant\", eta0=0.0005, random_state=42)\r\n",
        "\r\n",
        "minimum_val_error = float(\"inf\")\r\n",
        "best_epoch = None\r\n",
        "best_model = None\r\n",
        "for epoch in range(1000):\r\n",
        "    sgd_reg.fit(X_train_poly_scaled, y_train)  # continues where it left off\r\n",
        "    y_val_predict = sgd_reg.predict(X_val_poly_scaled)\r\n",
        "    val_error = mean_squared_error(y_val, y_val_predict)\r\n",
        "    if val_error < minimum_val_error:\r\n",
        "        minimum_val_error = val_error\r\n",
        "        best_epoch = epoch\r\n",
        "        best_model = deepcopy(sgd_reg)"
      ],
      "execution_count": 90,
      "outputs": []
    },
    {
      "cell_type": "markdown",
      "metadata": {
        "id": "dmcDWGWCfK3Q"
      },
      "source": [
        "Visualise the result"
      ]
    },
    {
      "cell_type": "code",
      "metadata": {
        "colab": {
          "base_uri": "https://localhost:8080/",
          "height": 283
        },
        "id": "CKzwBnm3e7EX",
        "outputId": "e8e60966-b5fd-44e2-d83d-4ad40c439dcb"
      },
      "source": [
        "sgd_reg = SGDRegressor(max_iter=1, tol=-np.infty, warm_start=True,\r\n",
        "                       penalty=None, learning_rate=\"constant\", eta0=0.0005, random_state=42)\r\n",
        "\r\n",
        "n_epochs = 500\r\n",
        "train_errors, val_errors = [], []\r\n",
        "for epoch in range(n_epochs):\r\n",
        "    sgd_reg.fit(X_train_poly_scaled, y_train)\r\n",
        "    y_train_predict = sgd_reg.predict(X_train_poly_scaled)\r\n",
        "    y_val_predict = sgd_reg.predict(X_val_poly_scaled)\r\n",
        "    train_errors.append(mean_squared_error(y_train, y_train_predict))\r\n",
        "    val_errors.append(mean_squared_error(y_val, y_val_predict))\r\n",
        "\r\n",
        "best_epoch = np.argmin(val_errors)\r\n",
        "best_val_rmse = np.sqrt(val_errors[best_epoch])\r\n",
        "\r\n",
        "plt.annotate('Best model',\r\n",
        "             xy=(best_epoch, best_val_rmse),\r\n",
        "             xytext=(best_epoch, best_val_rmse + 1),\r\n",
        "             ha=\"center\",\r\n",
        "             arrowprops=dict(facecolor='black', shrink=0.05),\r\n",
        "             fontsize=16,\r\n",
        "            )\r\n",
        "\r\n",
        "best_val_rmse -= 0.03  # just to make the graph look better\r\n",
        "plt.plot([0, n_epochs], [best_val_rmse, best_val_rmse], \"k:\", linewidth=2)\r\n",
        "plt.plot(np.sqrt(val_errors), \"b-\", linewidth=3, label=\"Validation set\")\r\n",
        "plt.plot(np.sqrt(train_errors), \"r--\", linewidth=2, label=\"Training set\")\r\n",
        "plt.legend(loc=\"upper right\", fontsize=14)\r\n",
        "plt.xlabel(\"Epoch\", fontsize=14)\r\n",
        "plt.ylabel(\"RMSE\", fontsize=14)\r\n",
        "plt.show()"
      ],
      "execution_count": 92,
      "outputs": [
        {
          "output_type": "display_data",
          "data": {
            "image/png": "[encoded data removed]",
            "text/plain": [
              "<Figure size 432x288 with 1 Axes>"
            ]
          },
          "metadata": {
            "tags": [],
            "needs_background": "light"
          }
        }
      ]
    },
    {
      "cell_type": "markdown",
      "metadata": {
        "id": "Os1SbAoAfPon"
      },
      "source": [
        "So the above code just saves a copy of the model using copy.deepcopy() whenever `minimum_val_error` gets bigger than the last value."
      ]
    },
    {
      "cell_type": "markdown",
      "metadata": {
        "id": "bydniqJ1fMjP"
      },
      "source": [
        "# Logistic Regression"
      ]
    }
  ]
}